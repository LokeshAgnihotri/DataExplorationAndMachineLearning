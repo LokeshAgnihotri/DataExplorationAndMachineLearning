{
 "cells": [
  {
   "cell_type": "markdown",
   "metadata": {},
   "source": [
    "# Project Linear Regression\n",
    "\n",
    "In this notebook a linear regression algortihm will be used to predict the units ordered for a specific medication type"
   ]
  },
  {
   "cell_type": "code",
   "execution_count": 1,
   "metadata": {},
   "outputs": [],
   "source": [
    "import numpy as np\n",
    "import pandas as pd\n",
    "import matplotlib.pyplot as plt\n",
    "import seaborn as sns\n",
    "from sklearn.model_selection import train_test_split,cross_val_score, cross_val_predict\n",
    "from sklearn import metrics\n",
    "%matplotlib inline"
   ]
  },
  {
   "cell_type": "markdown",
   "metadata": {},
   "source": [
    "### Dataset\n",
    "Below you can see the dataset in it's current state"
   ]
  },
  {
   "cell_type": "code",
   "execution_count": 2,
   "metadata": {},
   "outputs": [
    {
     "data": {
      "text/html": [
       "<div>\n",
       "<style scoped>\n",
       "    .dataframe tbody tr th:only-of-type {\n",
       "        vertical-align: middle;\n",
       "    }\n",
       "\n",
       "    .dataframe tbody tr th {\n",
       "        vertical-align: top;\n",
       "    }\n",
       "\n",
       "    .dataframe thead th {\n",
       "        text-align: right;\n",
       "    }\n",
       "</style>\n",
       "<table border=\"1\" class=\"dataframe\">\n",
       "  <thead>\n",
       "    <tr style=\"text-align: right;\">\n",
       "      <th></th>\n",
       "      <th>Delivery Date</th>\n",
       "      <th>Pharmacy No</th>\n",
       "      <th>Pharmacy Post</th>\n",
       "      <th>YOB</th>\n",
       "      <th>Gender</th>\n",
       "      <th>CNK</th>\n",
       "      <th>Product Name</th>\n",
       "      <th>ATC</th>\n",
       "      <th>Units</th>\n",
       "      <th>Price</th>\n",
       "      <th>Contribution</th>\n",
       "      <th>Age</th>\n",
       "      <th>Age Group</th>\n",
       "      <th>Province</th>\n",
       "      <th>ATC_Classification</th>\n",
       "      <th>Medication_Type</th>\n",
       "      <th>year</th>\n",
       "      <th>M</th>\n",
       "      <th>F</th>\n",
       "      <th>Total Population</th>\n",
       "    </tr>\n",
       "  </thead>\n",
       "  <tbody>\n",
       "    <tr>\n",
       "      <th>0</th>\n",
       "      <td>2017-01-01</td>\n",
       "      <td>7341765</td>\n",
       "      <td>21</td>\n",
       "      <td>1923</td>\n",
       "      <td>1</td>\n",
       "      <td>5520523</td>\n",
       "      <td>WACHTHONORARIUM</td>\n",
       "      <td></td>\n",
       "      <td>0</td>\n",
       "      <td>4.90</td>\n",
       "      <td>0.00</td>\n",
       "      <td>94</td>\n",
       "      <td>90-94</td>\n",
       "      <td>Antwerp</td>\n",
       "      <td>Unknown</td>\n",
       "      <td>Unknown</td>\n",
       "      <td>2017</td>\n",
       "      <td>4153.0</td>\n",
       "      <td>9410.0</td>\n",
       "      <td>13563.0</td>\n",
       "    </tr>\n",
       "    <tr>\n",
       "      <th>1</th>\n",
       "      <td>2017-01-01</td>\n",
       "      <td>7341765</td>\n",
       "      <td>21</td>\n",
       "      <td>1925</td>\n",
       "      <td>1</td>\n",
       "      <td>1799931</td>\n",
       "      <td>ZALDIAR 37,5 MG/325 MG FILMOMH TABL 20</td>\n",
       "      <td>N02AJ13</td>\n",
       "      <td>20</td>\n",
       "      <td>9.26</td>\n",
       "      <td>3.62</td>\n",
       "      <td>92</td>\n",
       "      <td>90-94</td>\n",
       "      <td>Antwerp</td>\n",
       "      <td>Nervous system</td>\n",
       "      <td>Analgesic drugs</td>\n",
       "      <td>2017</td>\n",
       "      <td>4153.0</td>\n",
       "      <td>9410.0</td>\n",
       "      <td>13563.0</td>\n",
       "    </tr>\n",
       "    <tr>\n",
       "      <th>2</th>\n",
       "      <td>2017-01-01</td>\n",
       "      <td>8272695</td>\n",
       "      <td>16</td>\n",
       "      <td>1930</td>\n",
       "      <td>2</td>\n",
       "      <td>1719400</td>\n",
       "      <td>VASEXTEN CAPS BLIST 28 X 10 MG</td>\n",
       "      <td>C08CA12</td>\n",
       "      <td>28</td>\n",
       "      <td>19.22</td>\n",
       "      <td>4.98</td>\n",
       "      <td>87</td>\n",
       "      <td>85-89</td>\n",
       "      <td>Flemish Brabant</td>\n",
       "      <td>Cardiovascular system</td>\n",
       "      <td>Calcium channel blockers</td>\n",
       "      <td>2017</td>\n",
       "      <td>7858.0</td>\n",
       "      <td>13941.0</td>\n",
       "      <td>21799.0</td>\n",
       "    </tr>\n",
       "    <tr>\n",
       "      <th>3</th>\n",
       "      <td>2017-01-01</td>\n",
       "      <td>8272695</td>\n",
       "      <td>16</td>\n",
       "      <td>1933</td>\n",
       "      <td>2</td>\n",
       "      <td>5520523</td>\n",
       "      <td>WACHTHONORARIUM</td>\n",
       "      <td></td>\n",
       "      <td>0</td>\n",
       "      <td>4.90</td>\n",
       "      <td>0.00</td>\n",
       "      <td>84</td>\n",
       "      <td>80-84</td>\n",
       "      <td>Flemish Brabant</td>\n",
       "      <td>Unknown</td>\n",
       "      <td>Unknown</td>\n",
       "      <td>2017</td>\n",
       "      <td>13956.0</td>\n",
       "      <td>19571.0</td>\n",
       "      <td>33527.0</td>\n",
       "    </tr>\n",
       "    <tr>\n",
       "      <th>4</th>\n",
       "      <td>2017-01-01</td>\n",
       "      <td>9111423</td>\n",
       "      <td>10</td>\n",
       "      <td>1931</td>\n",
       "      <td>1</td>\n",
       "      <td>1750132</td>\n",
       "      <td>AACIDEXAM 5MG/ML OPL INJ FL INJ  1 X 1ML</td>\n",
       "      <td>H02AB02</td>\n",
       "      <td>1</td>\n",
       "      <td>6.15</td>\n",
       "      <td>0.39</td>\n",
       "      <td>86</td>\n",
       "      <td>85-89</td>\n",
       "      <td>Brussels</td>\n",
       "      <td>Systemic hormonal preparations, excluding repr...</td>\n",
       "      <td>Corticosteroids systemic</td>\n",
       "      <td>2017</td>\n",
       "      <td>5236.0</td>\n",
       "      <td>11270.0</td>\n",
       "      <td>16506.0</td>\n",
       "    </tr>\n",
       "  </tbody>\n",
       "</table>\n",
       "</div>"
      ],
      "text/plain": [
       "  Delivery Date  Pharmacy No  Pharmacy Post   YOB  Gender      CNK  \\\n",
       "0    2017-01-01      7341765             21  1923       1  5520523   \n",
       "1    2017-01-01      7341765             21  1925       1  1799931   \n",
       "2    2017-01-01      8272695             16  1930       2  1719400   \n",
       "3    2017-01-01      8272695             16  1933       2  5520523   \n",
       "4    2017-01-01      9111423             10  1931       1  1750132   \n",
       "\n",
       "                               Product Name      ATC  Units  Price  \\\n",
       "0                           WACHTHONORARIUM               0   4.90   \n",
       "1    ZALDIAR 37,5 MG/325 MG FILMOMH TABL 20  N02AJ13     20   9.26   \n",
       "2            VASEXTEN CAPS BLIST 28 X 10 MG  C08CA12     28  19.22   \n",
       "3                           WACHTHONORARIUM               0   4.90   \n",
       "4  AACIDEXAM 5MG/ML OPL INJ FL INJ  1 X 1ML  H02AB02      1   6.15   \n",
       "\n",
       "   Contribution  Age Age Group         Province  \\\n",
       "0          0.00   94     90-94          Antwerp   \n",
       "1          3.62   92     90-94          Antwerp   \n",
       "2          4.98   87     85-89  Flemish Brabant   \n",
       "3          0.00   84     80-84  Flemish Brabant   \n",
       "4          0.39   86     85-89         Brussels   \n",
       "\n",
       "                                  ATC_Classification  \\\n",
       "0                                            Unknown   \n",
       "1                                     Nervous system   \n",
       "2                              Cardiovascular system   \n",
       "3                                            Unknown   \n",
       "4  Systemic hormonal preparations, excluding repr...   \n",
       "\n",
       "            Medication_Type  year        M        F  Total Population  \n",
       "0                   Unknown  2017   4153.0   9410.0           13563.0  \n",
       "1           Analgesic drugs  2017   4153.0   9410.0           13563.0  \n",
       "2  Calcium channel blockers  2017   7858.0  13941.0           21799.0  \n",
       "3                   Unknown  2017  13956.0  19571.0           33527.0  \n",
       "4  Corticosteroids systemic  2017   5236.0  11270.0           16506.0  "
      ]
     },
     "execution_count": 2,
     "metadata": {},
     "output_type": "execute_result"
    }
   ],
   "source": [
    "df = pd.read_csv(\"../pharmacy_with_pop_2020.csv\")\n",
    "df.head()"
   ]
  },
  {
   "cell_type": "markdown",
   "metadata": {},
   "source": [
    "### Selecting properties\n",
    "\n",
    "Below you can select the prefered medication type and frequency (Y, M, W, D)"
   ]
  },
  {
   "cell_type": "code",
   "execution_count": 26,
   "metadata": {},
   "outputs": [],
   "source": [
    "MedicationType = 'Psychoanaleptics'\n",
    "Frequency= 'M'\n",
    "Province = 'Antwerp'"
   ]
  },
  {
   "cell_type": "markdown",
   "metadata": {},
   "source": [
    "After selecting a medication type, it will be filtered from the dataset"
   ]
  },
  {
   "cell_type": "code",
   "execution_count": 27,
   "metadata": {},
   "outputs": [
    {
     "data": {
      "text/html": [
       "<div>\n",
       "<style scoped>\n",
       "    .dataframe tbody tr th:only-of-type {\n",
       "        vertical-align: middle;\n",
       "    }\n",
       "\n",
       "    .dataframe tbody tr th {\n",
       "        vertical-align: top;\n",
       "    }\n",
       "\n",
       "    .dataframe thead th {\n",
       "        text-align: right;\n",
       "    }\n",
       "</style>\n",
       "<table border=\"1\" class=\"dataframe\">\n",
       "  <thead>\n",
       "    <tr style=\"text-align: right;\">\n",
       "      <th></th>\n",
       "      <th>Delivery Date</th>\n",
       "      <th>Pharmacy No</th>\n",
       "      <th>Pharmacy Post</th>\n",
       "      <th>YOB</th>\n",
       "      <th>Gender</th>\n",
       "      <th>CNK</th>\n",
       "      <th>Product Name</th>\n",
       "      <th>ATC</th>\n",
       "      <th>Units</th>\n",
       "      <th>Price</th>\n",
       "      <th>Contribution</th>\n",
       "      <th>Age</th>\n",
       "      <th>Age Group</th>\n",
       "      <th>Province</th>\n",
       "      <th>ATC_Classification</th>\n",
       "      <th>Medication_Type</th>\n",
       "      <th>year</th>\n",
       "      <th>M</th>\n",
       "      <th>F</th>\n",
       "      <th>Total Population</th>\n",
       "    </tr>\n",
       "  </thead>\n",
       "  <tbody>\n",
       "    <tr>\n",
       "      <th>40</th>\n",
       "      <td>2017-01-01</td>\n",
       "      <td>7641438</td>\n",
       "      <td>40</td>\n",
       "      <td>1970</td>\n",
       "      <td>2</td>\n",
       "      <td>3183092</td>\n",
       "      <td>CYMBALTA 60 MG MAAGSAPRESIST. CAPS  98 X 60 MG</td>\n",
       "      <td>N06AX21</td>\n",
       "      <td>98</td>\n",
       "      <td>53.30</td>\n",
       "      <td>13.67</td>\n",
       "      <td>47</td>\n",
       "      <td>45-49</td>\n",
       "      <td>Liege</td>\n",
       "      <td>Nervous system</td>\n",
       "      <td>Psychoanaleptics</td>\n",
       "      <td>2017</td>\n",
       "      <td>37707.0</td>\n",
       "      <td>37199.0</td>\n",
       "      <td>74906.0</td>\n",
       "    </tr>\n",
       "    <tr>\n",
       "      <th>838</th>\n",
       "      <td>2017-01-01</td>\n",
       "      <td>9123123</td>\n",
       "      <td>86</td>\n",
       "      <td>1899</td>\n",
       "      <td>0</td>\n",
       "      <td>126987</td>\n",
       "      <td>REDOMEX DIFFUCAPS CAPS   40 X 25 MG</td>\n",
       "      <td>N06AA09</td>\n",
       "      <td>40</td>\n",
       "      <td>7.22</td>\n",
       "      <td>0.91</td>\n",
       "      <td>118</td>\n",
       "      <td>100+</td>\n",
       "      <td>West Flanders</td>\n",
       "      <td>Nervous system</td>\n",
       "      <td>Psychoanaleptics</td>\n",
       "      <td>2017</td>\n",
       "      <td>31.0</td>\n",
       "      <td>201.0</td>\n",
       "      <td>232.0</td>\n",
       "    </tr>\n",
       "    <tr>\n",
       "      <th>839</th>\n",
       "      <td>2017-01-01</td>\n",
       "      <td>7056201</td>\n",
       "      <td>89</td>\n",
       "      <td>1899</td>\n",
       "      <td>0</td>\n",
       "      <td>127019</td>\n",
       "      <td>REDOMEX DIFFUCAPS CAPS   40 X 50 MG</td>\n",
       "      <td>N06AA09</td>\n",
       "      <td>40</td>\n",
       "      <td>8.83</td>\n",
       "      <td>0.89</td>\n",
       "      <td>118</td>\n",
       "      <td>100+</td>\n",
       "      <td>West Flanders</td>\n",
       "      <td>Nervous system</td>\n",
       "      <td>Psychoanaleptics</td>\n",
       "      <td>2017</td>\n",
       "      <td>31.0</td>\n",
       "      <td>201.0</td>\n",
       "      <td>232.0</td>\n",
       "    </tr>\n",
       "    <tr>\n",
       "      <th>978</th>\n",
       "      <td>2017-01-01</td>\n",
       "      <td>7067208</td>\n",
       "      <td>20</td>\n",
       "      <td>1899</td>\n",
       "      <td>0</td>\n",
       "      <td>1390343</td>\n",
       "      <td>SERLAIN  50 MG COMP PELL  30 X  50 MG</td>\n",
       "      <td>N06AB06</td>\n",
       "      <td>30</td>\n",
       "      <td>14.96</td>\n",
       "      <td>2.14</td>\n",
       "      <td>118</td>\n",
       "      <td>100+</td>\n",
       "      <td>Antwerp</td>\n",
       "      <td>Nervous system</td>\n",
       "      <td>Psychoanaleptics</td>\n",
       "      <td>2017</td>\n",
       "      <td>36.0</td>\n",
       "      <td>234.0</td>\n",
       "      <td>270.0</td>\n",
       "    </tr>\n",
       "    <tr>\n",
       "      <th>1269</th>\n",
       "      <td>2017-01-01</td>\n",
       "      <td>7122399</td>\n",
       "      <td>30</td>\n",
       "      <td>1899</td>\n",
       "      <td>0</td>\n",
       "      <td>1625672</td>\n",
       "      <td>FLUOXETINE EG CAPS 56 X 20 MG</td>\n",
       "      <td>N06AB03</td>\n",
       "      <td>56</td>\n",
       "      <td>25.74</td>\n",
       "      <td>4.26</td>\n",
       "      <td>118</td>\n",
       "      <td>100+</td>\n",
       "      <td>Flemish Brabant</td>\n",
       "      <td>Nervous system</td>\n",
       "      <td>Psychoanaleptics</td>\n",
       "      <td>2017</td>\n",
       "      <td>17.0</td>\n",
       "      <td>138.0</td>\n",
       "      <td>155.0</td>\n",
       "    </tr>\n",
       "  </tbody>\n",
       "</table>\n",
       "</div>"
      ],
      "text/plain": [
       "     Delivery Date  Pharmacy No  Pharmacy Post   YOB  Gender      CNK  \\\n",
       "40      2017-01-01      7641438             40  1970       2  3183092   \n",
       "838     2017-01-01      9123123             86  1899       0   126987   \n",
       "839     2017-01-01      7056201             89  1899       0   127019   \n",
       "978     2017-01-01      7067208             20  1899       0  1390343   \n",
       "1269    2017-01-01      7122399             30  1899       0  1625672   \n",
       "\n",
       "                                        Product Name      ATC  Units  Price  \\\n",
       "40    CYMBALTA 60 MG MAAGSAPRESIST. CAPS  98 X 60 MG  N06AX21     98  53.30   \n",
       "838              REDOMEX DIFFUCAPS CAPS   40 X 25 MG  N06AA09     40   7.22   \n",
       "839              REDOMEX DIFFUCAPS CAPS   40 X 50 MG  N06AA09     40   8.83   \n",
       "978            SERLAIN  50 MG COMP PELL  30 X  50 MG  N06AB06     30  14.96   \n",
       "1269                   FLUOXETINE EG CAPS 56 X 20 MG  N06AB03     56  25.74   \n",
       "\n",
       "      Contribution  Age Age Group         Province ATC_Classification  \\\n",
       "40           13.67   47     45-49            Liege     Nervous system   \n",
       "838           0.91  118      100+    West Flanders     Nervous system   \n",
       "839           0.89  118      100+    West Flanders     Nervous system   \n",
       "978           2.14  118      100+          Antwerp     Nervous system   \n",
       "1269          4.26  118      100+  Flemish Brabant     Nervous system   \n",
       "\n",
       "       Medication_Type  year        M        F  Total Population  \n",
       "40    Psychoanaleptics  2017  37707.0  37199.0           74906.0  \n",
       "838   Psychoanaleptics  2017     31.0    201.0             232.0  \n",
       "839   Psychoanaleptics  2017     31.0    201.0             232.0  \n",
       "978   Psychoanaleptics  2017     36.0    234.0             270.0  \n",
       "1269  Psychoanaleptics  2017     17.0    138.0             155.0  "
      ]
     },
     "execution_count": 27,
     "metadata": {},
     "output_type": "execute_result"
    }
   ],
   "source": [
    "is_Med = df['Medication_Type'] == MedicationType\n",
    "df2 = df[is_Med]\n",
    "df2.head()"
   ]
  },
  {
   "cell_type": "code",
   "execution_count": 28,
   "metadata": {},
   "outputs": [
    {
     "name": "stderr",
     "output_type": "stream",
     "text": [
      "D:\\Anaconda\\lib\\site-packages\\ipykernel_launcher.py:2: UserWarning: Boolean Series key will be reindexed to match DataFrame index.\n",
      "  \n"
     ]
    }
   ],
   "source": [
    "is_Prov = df['Province'] == Province\n",
    "df2 = df2[is_Prov]"
   ]
  },
  {
   "cell_type": "code",
   "execution_count": 29,
   "metadata": {},
   "outputs": [
    {
     "data": {
      "text/html": [
       "<div>\n",
       "<style scoped>\n",
       "    .dataframe tbody tr th:only-of-type {\n",
       "        vertical-align: middle;\n",
       "    }\n",
       "\n",
       "    .dataframe tbody tr th {\n",
       "        vertical-align: top;\n",
       "    }\n",
       "\n",
       "    .dataframe thead th {\n",
       "        text-align: right;\n",
       "    }\n",
       "</style>\n",
       "<table border=\"1\" class=\"dataframe\">\n",
       "  <thead>\n",
       "    <tr style=\"text-align: right;\">\n",
       "      <th></th>\n",
       "      <th>Delivery Date</th>\n",
       "      <th>Pharmacy No</th>\n",
       "      <th>Pharmacy Post</th>\n",
       "      <th>YOB</th>\n",
       "      <th>Gender</th>\n",
       "      <th>CNK</th>\n",
       "      <th>Product Name</th>\n",
       "      <th>ATC</th>\n",
       "      <th>Units</th>\n",
       "      <th>Price</th>\n",
       "      <th>Contribution</th>\n",
       "      <th>Age</th>\n",
       "      <th>Age Group</th>\n",
       "      <th>Province</th>\n",
       "      <th>ATC_Classification</th>\n",
       "      <th>Medication_Type</th>\n",
       "      <th>year</th>\n",
       "      <th>M</th>\n",
       "      <th>F</th>\n",
       "      <th>Total Population</th>\n",
       "    </tr>\n",
       "  </thead>\n",
       "  <tbody>\n",
       "    <tr>\n",
       "      <th>978</th>\n",
       "      <td>2017-01-01</td>\n",
       "      <td>7067208</td>\n",
       "      <td>20</td>\n",
       "      <td>1899</td>\n",
       "      <td>0</td>\n",
       "      <td>1390343</td>\n",
       "      <td>SERLAIN  50 MG COMP PELL  30 X  50 MG</td>\n",
       "      <td>N06AB06</td>\n",
       "      <td>30</td>\n",
       "      <td>14.96</td>\n",
       "      <td>2.14</td>\n",
       "      <td>118</td>\n",
       "      <td>100+</td>\n",
       "      <td>Antwerp</td>\n",
       "      <td>Nervous system</td>\n",
       "      <td>Psychoanaleptics</td>\n",
       "      <td>2017</td>\n",
       "      <td>36.0</td>\n",
       "      <td>234.0</td>\n",
       "      <td>270.0</td>\n",
       "    </tr>\n",
       "    <tr>\n",
       "      <th>2435</th>\n",
       "      <td>2017-01-01</td>\n",
       "      <td>3790968</td>\n",
       "      <td>21</td>\n",
       "      <td>1899</td>\n",
       "      <td>0</td>\n",
       "      <td>2967065</td>\n",
       "      <td>SERLAIN  50 MG COMP PELL 100 X  50 MG</td>\n",
       "      <td>N06AB06</td>\n",
       "      <td>100</td>\n",
       "      <td>32.58</td>\n",
       "      <td>5.24</td>\n",
       "      <td>118</td>\n",
       "      <td>100+</td>\n",
       "      <td>Antwerp</td>\n",
       "      <td>Nervous system</td>\n",
       "      <td>Psychoanaleptics</td>\n",
       "      <td>2017</td>\n",
       "      <td>36.0</td>\n",
       "      <td>234.0</td>\n",
       "      <td>270.0</td>\n",
       "    </tr>\n",
       "    <tr>\n",
       "      <th>2483</th>\n",
       "      <td>2017-01-01</td>\n",
       "      <td>7084071</td>\n",
       "      <td>20</td>\n",
       "      <td>1899</td>\n",
       "      <td>0</td>\n",
       "      <td>2999860</td>\n",
       "      <td>SIPRALEXA 10 MG TABL  98 X 10 MG</td>\n",
       "      <td>N06AB10</td>\n",
       "      <td>98</td>\n",
       "      <td>26.78</td>\n",
       "      <td>9.88</td>\n",
       "      <td>118</td>\n",
       "      <td>100+</td>\n",
       "      <td>Antwerp</td>\n",
       "      <td>Nervous system</td>\n",
       "      <td>Psychoanaleptics</td>\n",
       "      <td>2017</td>\n",
       "      <td>36.0</td>\n",
       "      <td>234.0</td>\n",
       "      <td>270.0</td>\n",
       "    </tr>\n",
       "    <tr>\n",
       "      <th>2592</th>\n",
       "      <td>2017-01-01</td>\n",
       "      <td>7084071</td>\n",
       "      <td>20</td>\n",
       "      <td>1899</td>\n",
       "      <td>0</td>\n",
       "      <td>3179959</td>\n",
       "      <td>DEANXIT 10 MG FILMOMH TABL 30 X 10 MG/0,5 MG</td>\n",
       "      <td>N06CA02</td>\n",
       "      <td>30</td>\n",
       "      <td>6.28</td>\n",
       "      <td>6.28</td>\n",
       "      <td>118</td>\n",
       "      <td>100+</td>\n",
       "      <td>Antwerp</td>\n",
       "      <td>Nervous system</td>\n",
       "      <td>Psychoanaleptics</td>\n",
       "      <td>2017</td>\n",
       "      <td>36.0</td>\n",
       "      <td>234.0</td>\n",
       "      <td>270.0</td>\n",
       "    </tr>\n",
       "    <tr>\n",
       "      <th>2607</th>\n",
       "      <td>2017-01-01</td>\n",
       "      <td>7122423</td>\n",
       "      <td>20</td>\n",
       "      <td>1899</td>\n",
       "      <td>0</td>\n",
       "      <td>3183092</td>\n",
       "      <td>CYMBALTA 60 MG MAAGSAPRESIST. CAPS  98 X 60 MG</td>\n",
       "      <td>N06AX21</td>\n",
       "      <td>98</td>\n",
       "      <td>53.30</td>\n",
       "      <td>8.12</td>\n",
       "      <td>118</td>\n",
       "      <td>100+</td>\n",
       "      <td>Antwerp</td>\n",
       "      <td>Nervous system</td>\n",
       "      <td>Psychoanaleptics</td>\n",
       "      <td>2017</td>\n",
       "      <td>36.0</td>\n",
       "      <td>234.0</td>\n",
       "      <td>270.0</td>\n",
       "    </tr>\n",
       "  </tbody>\n",
       "</table>\n",
       "</div>"
      ],
      "text/plain": [
       "     Delivery Date  Pharmacy No  Pharmacy Post   YOB  Gender      CNK  \\\n",
       "978     2017-01-01      7067208             20  1899       0  1390343   \n",
       "2435    2017-01-01      3790968             21  1899       0  2967065   \n",
       "2483    2017-01-01      7084071             20  1899       0  2999860   \n",
       "2592    2017-01-01      7084071             20  1899       0  3179959   \n",
       "2607    2017-01-01      7122423             20  1899       0  3183092   \n",
       "\n",
       "                                        Product Name      ATC  Units  Price  \\\n",
       "978            SERLAIN  50 MG COMP PELL  30 X  50 MG  N06AB06     30  14.96   \n",
       "2435           SERLAIN  50 MG COMP PELL 100 X  50 MG  N06AB06    100  32.58   \n",
       "2483                SIPRALEXA 10 MG TABL  98 X 10 MG  N06AB10     98  26.78   \n",
       "2592    DEANXIT 10 MG FILMOMH TABL 30 X 10 MG/0,5 MG  N06CA02     30   6.28   \n",
       "2607  CYMBALTA 60 MG MAAGSAPRESIST. CAPS  98 X 60 MG  N06AX21     98  53.30   \n",
       "\n",
       "      Contribution  Age Age Group Province ATC_Classification  \\\n",
       "978           2.14  118      100+  Antwerp     Nervous system   \n",
       "2435          5.24  118      100+  Antwerp     Nervous system   \n",
       "2483          9.88  118      100+  Antwerp     Nervous system   \n",
       "2592          6.28  118      100+  Antwerp     Nervous system   \n",
       "2607          8.12  118      100+  Antwerp     Nervous system   \n",
       "\n",
       "       Medication_Type  year     M      F  Total Population  \n",
       "978   Psychoanaleptics  2017  36.0  234.0             270.0  \n",
       "2435  Psychoanaleptics  2017  36.0  234.0             270.0  \n",
       "2483  Psychoanaleptics  2017  36.0  234.0             270.0  \n",
       "2592  Psychoanaleptics  2017  36.0  234.0             270.0  \n",
       "2607  Psychoanaleptics  2017  36.0  234.0             270.0  "
      ]
     },
     "execution_count": 29,
     "metadata": {},
     "output_type": "execute_result"
    }
   ],
   "source": [
    "df2['Delivery Date'] = df2['Delivery Date'].astype('datetime64[ns]')\n",
    "df2.head()"
   ]
  },
  {
   "cell_type": "markdown",
   "metadata": {},
   "source": [
    "### Create a new dataframe\n",
    "\n",
    "Now it has to create a new dataframe to sum the units on the selected frequency"
   ]
  },
  {
   "cell_type": "code",
   "execution_count": 30,
   "metadata": {},
   "outputs": [
    {
     "name": "stdout",
     "output_type": "stream",
     "text": [
      "    Delivery Date  Total Population Age Group   Units\n",
      "0      2017-01-31             270.0      100+     566\n",
      "1      2017-01-31            2778.0     95-99    2062\n",
      "2      2017-01-31           13563.0     90-94   10990\n",
      "3      2017-01-31           34356.0     85-89   30608\n",
      "4      2017-01-31           53729.0     80-84   49862\n",
      "..            ...               ...       ...     ...\n",
      "869    2020-07-31          120343.0     45-49   66628\n",
      "870    2020-07-31          121504.0     30-34   32988\n",
      "871    2020-07-31          123123.0     35-39   41350\n",
      "872    2020-07-31          128978.0     50-54   91270\n",
      "873    2020-07-31          132846.0     55-59  111436\n",
      "\n",
      "[874 rows x 4 columns]\n"
     ]
    }
   ],
   "source": [
    "res = df2.set_index('Delivery Date').groupby([pd.Grouper(freq=Frequency), 'Total Population', 'Age Group'])['Units'].sum().reset_index()\n",
    "\n",
    "print(res)"
   ]
  },
  {
   "cell_type": "code",
   "execution_count": 31,
   "metadata": {},
   "outputs": [
    {
     "data": {
      "text/html": [
       "<div>\n",
       "<style scoped>\n",
       "    .dataframe tbody tr th:only-of-type {\n",
       "        vertical-align: middle;\n",
       "    }\n",
       "\n",
       "    .dataframe tbody tr th {\n",
       "        vertical-align: top;\n",
       "    }\n",
       "\n",
       "    .dataframe thead th {\n",
       "        text-align: right;\n",
       "    }\n",
       "</style>\n",
       "<table border=\"1\" class=\"dataframe\">\n",
       "  <thead>\n",
       "    <tr style=\"text-align: right;\">\n",
       "      <th></th>\n",
       "      <th>Delivery Date</th>\n",
       "      <th>Total Population</th>\n",
       "      <th>Age Group</th>\n",
       "      <th>Units</th>\n",
       "      <th>Month</th>\n",
       "    </tr>\n",
       "  </thead>\n",
       "  <tbody>\n",
       "    <tr>\n",
       "      <th>0</th>\n",
       "      <td>2017-01-31</td>\n",
       "      <td>270.0</td>\n",
       "      <td>100+</td>\n",
       "      <td>566</td>\n",
       "      <td>1</td>\n",
       "    </tr>\n",
       "    <tr>\n",
       "      <th>1</th>\n",
       "      <td>2017-01-31</td>\n",
       "      <td>2778.0</td>\n",
       "      <td>95-99</td>\n",
       "      <td>2062</td>\n",
       "      <td>1</td>\n",
       "    </tr>\n",
       "    <tr>\n",
       "      <th>2</th>\n",
       "      <td>2017-01-31</td>\n",
       "      <td>13563.0</td>\n",
       "      <td>90-94</td>\n",
       "      <td>10990</td>\n",
       "      <td>1</td>\n",
       "    </tr>\n",
       "    <tr>\n",
       "      <th>3</th>\n",
       "      <td>2017-01-31</td>\n",
       "      <td>34356.0</td>\n",
       "      <td>85-89</td>\n",
       "      <td>30608</td>\n",
       "      <td>1</td>\n",
       "    </tr>\n",
       "    <tr>\n",
       "      <th>4</th>\n",
       "      <td>2017-01-31</td>\n",
       "      <td>53729.0</td>\n",
       "      <td>80-84</td>\n",
       "      <td>49862</td>\n",
       "      <td>1</td>\n",
       "    </tr>\n",
       "  </tbody>\n",
       "</table>\n",
       "</div>"
      ],
      "text/plain": [
       "  Delivery Date  Total Population Age Group  Units  Month\n",
       "0    2017-01-31             270.0      100+    566      1\n",
       "1    2017-01-31            2778.0     95-99   2062      1\n",
       "2    2017-01-31           13563.0     90-94  10990      1\n",
       "3    2017-01-31           34356.0     85-89  30608      1\n",
       "4    2017-01-31           53729.0     80-84  49862      1"
      ]
     },
     "execution_count": 31,
     "metadata": {},
     "output_type": "execute_result"
    }
   ],
   "source": [
    "res['Month'] = 0\n",
    "res['Month'] = pd.DatetimeIndex(res['Delivery Date']).month\n",
    "res.head()"
   ]
  },
  {
   "cell_type": "markdown",
   "metadata": {},
   "source": [
    "### Converting the age groups\n",
    "\n",
    "To be able to use the age groups it has to be converted to numerical data, so we do that by changing '0-4' to a 1, '5-9' to a 2, etc."
   ]
  },
  {
   "cell_type": "code",
   "execution_count": 32,
   "metadata": {},
   "outputs": [
    {
     "data": {
      "text/html": [
       "<div>\n",
       "<style scoped>\n",
       "    .dataframe tbody tr th:only-of-type {\n",
       "        vertical-align: middle;\n",
       "    }\n",
       "\n",
       "    .dataframe tbody tr th {\n",
       "        vertical-align: top;\n",
       "    }\n",
       "\n",
       "    .dataframe thead th {\n",
       "        text-align: right;\n",
       "    }\n",
       "</style>\n",
       "<table border=\"1\" class=\"dataframe\">\n",
       "  <thead>\n",
       "    <tr style=\"text-align: right;\">\n",
       "      <th></th>\n",
       "      <th>Delivery Date</th>\n",
       "      <th>Total Population</th>\n",
       "      <th>Age Group</th>\n",
       "      <th>Units</th>\n",
       "      <th>Month</th>\n",
       "      <th>Age</th>\n",
       "    </tr>\n",
       "  </thead>\n",
       "  <tbody>\n",
       "    <tr>\n",
       "      <th>0</th>\n",
       "      <td>2017-01-31</td>\n",
       "      <td>270.0</td>\n",
       "      <td>100+</td>\n",
       "      <td>566</td>\n",
       "      <td>1</td>\n",
       "      <td>20</td>\n",
       "    </tr>\n",
       "    <tr>\n",
       "      <th>1</th>\n",
       "      <td>2017-01-31</td>\n",
       "      <td>2778.0</td>\n",
       "      <td>95-99</td>\n",
       "      <td>2062</td>\n",
       "      <td>1</td>\n",
       "      <td>20</td>\n",
       "    </tr>\n",
       "    <tr>\n",
       "      <th>2</th>\n",
       "      <td>2017-01-31</td>\n",
       "      <td>13563.0</td>\n",
       "      <td>90-94</td>\n",
       "      <td>10990</td>\n",
       "      <td>1</td>\n",
       "      <td>19</td>\n",
       "    </tr>\n",
       "    <tr>\n",
       "      <th>3</th>\n",
       "      <td>2017-01-31</td>\n",
       "      <td>34356.0</td>\n",
       "      <td>85-89</td>\n",
       "      <td>30608</td>\n",
       "      <td>1</td>\n",
       "      <td>18</td>\n",
       "    </tr>\n",
       "    <tr>\n",
       "      <th>4</th>\n",
       "      <td>2017-01-31</td>\n",
       "      <td>53729.0</td>\n",
       "      <td>80-84</td>\n",
       "      <td>49862</td>\n",
       "      <td>1</td>\n",
       "      <td>17</td>\n",
       "    </tr>\n",
       "  </tbody>\n",
       "</table>\n",
       "</div>"
      ],
      "text/plain": [
       "  Delivery Date  Total Population Age Group  Units  Month  Age\n",
       "0    2017-01-31             270.0      100+    566      1   20\n",
       "1    2017-01-31            2778.0     95-99   2062      1   20\n",
       "2    2017-01-31           13563.0     90-94  10990      1   19\n",
       "3    2017-01-31           34356.0     85-89  30608      1   18\n",
       "4    2017-01-31           53729.0     80-84  49862      1   17"
      ]
     },
     "execution_count": 32,
     "metadata": {},
     "output_type": "execute_result"
    }
   ],
   "source": [
    "res['Age'] = 0\n",
    "res['Age'] = res['Age Group'].map( {'0-4': 1, '5-9': 2, '10-14': 3, '15-19': 4, '20-24': 5, '25-29': 6, '30-34': 7, '35-39': 8, '40-44': 9, '45-49': 10, '50-54': 11, '55-59': 12, '60-64': 13, '65-69': 14, '70-74': 15, '75-79': 16, '80-84': 17, '85-89': 18, '90-94': 19, '95-99': 20, '100+': 20, } ).astype(int)\n",
    "res.head(5)"
   ]
  },
  {
   "cell_type": "code",
   "execution_count": null,
   "metadata": {},
   "outputs": [],
   "source": []
  },
  {
   "cell_type": "code",
   "execution_count": 33,
   "metadata": {},
   "outputs": [
    {
     "data": {
      "text/html": [
       "<div>\n",
       "<style scoped>\n",
       "    .dataframe tbody tr th:only-of-type {\n",
       "        vertical-align: middle;\n",
       "    }\n",
       "\n",
       "    .dataframe tbody tr th {\n",
       "        vertical-align: top;\n",
       "    }\n",
       "\n",
       "    .dataframe thead th {\n",
       "        text-align: right;\n",
       "    }\n",
       "</style>\n",
       "<table border=\"1\" class=\"dataframe\">\n",
       "  <thead>\n",
       "    <tr style=\"text-align: right;\">\n",
       "      <th></th>\n",
       "      <th>index</th>\n",
       "      <th>Delivery Date</th>\n",
       "      <th>Total Population</th>\n",
       "      <th>Age Group</th>\n",
       "      <th>Units</th>\n",
       "      <th>Month</th>\n",
       "      <th>Age</th>\n",
       "    </tr>\n",
       "  </thead>\n",
       "  <tbody>\n",
       "    <tr>\n",
       "      <th>0</th>\n",
       "      <td>0</td>\n",
       "      <td>2017-01-31</td>\n",
       "      <td>270.0</td>\n",
       "      <td>100+</td>\n",
       "      <td>566</td>\n",
       "      <td>1</td>\n",
       "      <td>20</td>\n",
       "    </tr>\n",
       "    <tr>\n",
       "      <th>1</th>\n",
       "      <td>1</td>\n",
       "      <td>2017-01-31</td>\n",
       "      <td>2778.0</td>\n",
       "      <td>95-99</td>\n",
       "      <td>2062</td>\n",
       "      <td>1</td>\n",
       "      <td>20</td>\n",
       "    </tr>\n",
       "    <tr>\n",
       "      <th>2</th>\n",
       "      <td>2</td>\n",
       "      <td>2017-01-31</td>\n",
       "      <td>13563.0</td>\n",
       "      <td>90-94</td>\n",
       "      <td>10990</td>\n",
       "      <td>1</td>\n",
       "      <td>19</td>\n",
       "    </tr>\n",
       "    <tr>\n",
       "      <th>3</th>\n",
       "      <td>3</td>\n",
       "      <td>2017-01-31</td>\n",
       "      <td>34356.0</td>\n",
       "      <td>85-89</td>\n",
       "      <td>30608</td>\n",
       "      <td>1</td>\n",
       "      <td>18</td>\n",
       "    </tr>\n",
       "    <tr>\n",
       "      <th>4</th>\n",
       "      <td>4</td>\n",
       "      <td>2017-01-31</td>\n",
       "      <td>53729.0</td>\n",
       "      <td>80-84</td>\n",
       "      <td>49862</td>\n",
       "      <td>1</td>\n",
       "      <td>17</td>\n",
       "    </tr>\n",
       "  </tbody>\n",
       "</table>\n",
       "</div>"
      ],
      "text/plain": [
       "   index Delivery Date  Total Population Age Group  Units  Month  Age\n",
       "0      0    2017-01-31             270.0      100+    566      1   20\n",
       "1      1    2017-01-31            2778.0     95-99   2062      1   20\n",
       "2      2    2017-01-31           13563.0     90-94  10990      1   19\n",
       "3      3    2017-01-31           34356.0     85-89  30608      1   18\n",
       "4      4    2017-01-31           53729.0     80-84  49862      1   17"
      ]
     },
     "execution_count": 33,
     "metadata": {},
     "output_type": "execute_result"
    }
   ],
   "source": [
    "res['Total Population'] = res['Total Population'].astype(float)\n",
    "res.dtypes\n",
    "res = res.reset_index()\n",
    "res.head()"
   ]
  },
  {
   "cell_type": "markdown",
   "metadata": {},
   "source": [
    "### Swapping column placement\n",
    "\n",
    "To normalize the data it is easier when the columns that are to be normalized are al next to each other so Age Group and Age are swapped"
   ]
  },
  {
   "cell_type": "code",
   "execution_count": 34,
   "metadata": {},
   "outputs": [],
   "source": [
    "cols = list(res.columns)\n",
    "a, b = cols.index('Age Group'), cols.index('Age')\n",
    "cols[b], cols[a] = cols[a], cols[b]\n",
    "res = res[cols]"
   ]
  },
  {
   "cell_type": "markdown",
   "metadata": {},
   "source": [
    "### Normalizing the data\n",
    "\n",
    "To make sure that the data shares a common scale we use the minmaxscaler to normalize the data"
   ]
  },
  {
   "cell_type": "code",
   "execution_count": 35,
   "metadata": {},
   "outputs": [
    {
     "name": "stdout",
     "output_type": "stream",
     "text": [
      "     index Delivery Date  Total Population       Age     Units  Month  \\\n",
      "0        0    2017-01-31          0.000385  1.000000  0.003593      1   \n",
      "1        1    2017-01-31          0.018964  1.000000  0.013437      1   \n",
      "2        2    2017-01-31          0.098855  0.947368  0.072185      1   \n",
      "3        3    2017-01-31          0.252882  0.894737  0.201277      1   \n",
      "4        4    2017-01-31          0.396390  0.842105  0.327973      1   \n",
      "..     ...           ...               ...       ...       ...    ...   \n",
      "869    869    2020-07-31          0.889841  0.473684  0.438297      7   \n",
      "870    870    2020-07-31          0.898441  0.315789  0.216938      7   \n",
      "871    871    2020-07-31          0.910434  0.368421  0.271962      7   \n",
      "872    872    2020-07-31          0.953806  0.526316  0.600447      7   \n",
      "873    873    2020-07-31          0.982459  0.578947  0.733145      7   \n",
      "\n",
      "    Age Group  \n",
      "0        100+  \n",
      "1       95-99  \n",
      "2       90-94  \n",
      "3       85-89  \n",
      "4       80-84  \n",
      "..        ...  \n",
      "869     45-49  \n",
      "870     30-34  \n",
      "871     35-39  \n",
      "872     50-54  \n",
      "873     55-59  \n",
      "\n",
      "[874 rows x 7 columns]\n"
     ]
    }
   ],
   "source": [
    "from sklearn.preprocessing import MinMaxScaler\n",
    "minmax = MinMaxScaler()\n",
    "res[[i for i in list(res.columns)[2:5]]] = minmax.fit_transform(res[[i for i in list(res.columns)[2:5]]])\n",
    "print(res)"
   ]
  },
  {
   "cell_type": "markdown",
   "metadata": {},
   "source": [
    "## Creating the model\n",
    "\n",
    "After all the preprocessing the model can be made, we use Total Population and Age to predict the Units"
   ]
  },
  {
   "cell_type": "markdown",
   "metadata": {},
   "source": [
    "### Multiple Linear Regression"
   ]
  },
  {
   "cell_type": "code",
   "execution_count": 36,
   "metadata": {},
   "outputs": [
    {
     "name": "stdout",
     "output_type": "stream",
     "text": [
      "Slope: 0.831\n",
      "Intercept: -0.706\n"
     ]
    }
   ],
   "source": [
    "from sklearn.linear_model import LinearRegression\n",
    "from sklearn.model_selection import train_test_split\n",
    "X = res[['Total Population', 'Age']].values\n",
    "y = res['Units'].values\n",
    "X_train, X_test, y_train, y_test = train_test_split(\n",
    "     X, y, test_size=0.3, random_state=0\n",
    ")\n",
    "slr = LinearRegression()\n",
    "slr.fit(X_train, y_train)\n",
    "y_train_pred = slr.predict(X_train)\n",
    "y_test_pred = slr.predict(X_test)\n",
    "print('Slope: %.3f' % slr.coef_[0])\n",
    "print('Intercept: %.3f' % slr.intercept_)"
   ]
  },
  {
   "cell_type": "code",
   "execution_count": 37,
   "metadata": {
    "scrolled": false
   },
   "outputs": [
    {
     "data": {
      "image/png": "[encoded data removed]",
      "text/plain": [
       "<Figure size 432x288 with 1 Axes>"
      ]
     },
     "metadata": {
      "needs_background": "light"
     },
     "output_type": "display_data"
    }
   ],
   "source": [
    "plt.scatter(y_train_pred, y_train_pred - y_train,\n",
    "    c='blue', marker='o', label='Training data'\n",
    ")\n",
    "plt.scatter(y_test_pred,  y_test_pred - y_test,\n",
    "    c='lightgreen', marker='s', label='Test data'\n",
    ")\n",
    "plt.xlabel('Predicted values')\n",
    "plt.ylabel('Residuals')\n",
    "plt.legend(loc='upper left')\n",
    "plt.hlines(y=0, xmin=-0, xmax=1, lw=2, color='red')\n",
    "plt.show()"
   ]
  },
  {
   "cell_type": "markdown",
   "metadata": {},
   "source": [
    "#### Measuring accuracy\n",
    "\n",
    "After making the model we can check it's accuracy and visualize it by plotting a bar chart"
   ]
  },
  {
   "cell_type": "code",
   "execution_count": 38,
   "metadata": {},
   "outputs": [
    {
     "name": "stdout",
     "output_type": "stream",
     "text": [
      "Mean Squared Error:  0.006835606428476987\n",
      "Mean Absolute Error: 0.06\n",
      "R2 score:  0.8213313151698411\n",
      "Linear Regression Accuracy:  82.13313151698412\n",
      "Cross-Predicted(KFold) Mutiple Linear Regression Accuracy:  82.92948083861829\n"
     ]
    }
   ],
   "source": [
    "from sklearn.metrics import median_absolute_error\n",
    "from sklearn.metrics import mean_squared_error\n",
    "from sklearn.metrics import r2_score\n",
    "print(\"Mean Squared Error: \",mean_squared_error(y_test, y_test_pred))\n",
    "errors = abs(y_test_pred-y_test)\n",
    "print('Mean Absolute Error:', round(np.mean(errors), 2))\n",
    "print('R2 score: ',r2_score(y_test, y_test_pred))\n",
    "#print('Median Absolute Error: ',median_absolute_error(y_test, y_test_pred))\n",
    "print('Linear Regression Accuracy: ', slr.score(X_test,y_test)*100)\n",
    "\n",
    "y_pred_kf_lr = cross_val_predict(slr, X, y, cv=15 )\n",
    "\n",
    "#Mutiple Linear Regression Accuracy with cross validation (KFold method)\n",
    "accuracy_lf = metrics.r2_score(y, y_pred_kf_lr)\n",
    "print('Cross-Predicted(KFold) Mutiple Linear Regression Accuracy: ', accuracy_lf*100)"
   ]
  },
  {
   "cell_type": "code",
   "execution_count": 39,
   "metadata": {},
   "outputs": [
    {
     "data": {
      "image/png": "[encoded data removed]",
      "text/plain": [
       "<Figure size 720x576 with 1 Axes>"
      ]
     },
     "metadata": {
      "needs_background": "light"
     },
     "output_type": "display_data"
    }
   ],
   "source": [
    "df1 = pd.DataFrame({'Actual': y_test, 'Predicted': y_test_pred})\n",
    "df2 = df1.head(25)\n",
    "df2.plot(kind='bar',figsize=(10,8))\n",
    "plt.grid(which='major', linestyle='-', linewidth='0.5', color='green')\n",
    "plt.grid(which='minor', linestyle=':', linewidth='0.5', color='black')\n",
    "plt.show()"
   ]
  },
  {
   "cell_type": "markdown",
   "metadata": {},
   "source": [
    "### Gradient Boosting Regression"
   ]
  },
  {
   "cell_type": "code",
   "execution_count": 47,
   "metadata": {},
   "outputs": [],
   "source": [
    "from sklearn.ensemble import GradientBoostingRegressor\n",
    "\n",
    "X = res[['Total Population', 'Age']].values\n",
    "y = res['Units'].values\n",
    "X_train, X_test, y_train, y_test = train_test_split(\n",
    "     X, y, test_size=0.3, random_state=0\n",
    ")\n",
    "gbr = GradientBoostingRegressor()\n",
    "gbr.fit(X_train, y_train)\n",
    "y_train_pred = gbr.predict(X_train)\n",
    "y_test_pred = gbr.predict(X_test)\n",
    "#print('Slope: %.3f' % slr.coef_[0])\n",
    "#print('Intercept: %.3f' % slr.intercept_)\n"
   ]
  },
  {
   "cell_type": "markdown",
   "metadata": {},
   "source": [
    "#### Measuring accuracy\n",
    "\n",
    "After making the model we can check it's accuracy and visualize it by plotting a bar chart"
   ]
  },
  {
   "cell_type": "code",
   "execution_count": 41,
   "metadata": {},
   "outputs": [
    {
     "name": "stdout",
     "output_type": "stream",
     "text": [
      "Mean Squared Error:  0.002947393490868686\n",
      "Mean Absolute Error: 0.03\n",
      "R2 score:  0.9229611996827894\n",
      "Gradient Boosting Regression Accuracy:  92.29611996827894\n",
      "Cross-Predicted(KFold) Gradient Boosting Regression Accuracy:  91.29400006973245\n"
     ]
    },
    {
     "data": {
      "image/png": "[encoded data removed]",
      "text/plain": [
       "<Figure size 720x576 with 1 Axes>"
      ]
     },
     "metadata": {
      "needs_background": "light"
     },
     "output_type": "display_data"
    }
   ],
   "source": [
    "#After making the model we can check it's accuracy and visualize it by plotting a bar chart\n",
    "\n",
    "print(\"Mean Squared Error: \",mean_squared_error(y_test, y_test_pred))\n",
    "errors = abs(y_test_pred-y_test)\n",
    "print('Mean Absolute Error:', round(np.mean(errors), 2))\n",
    "print('R2 score: ',r2_score(y_test, y_test_pred))\n",
    "#print('Median Absolute Error: ',median_absolute_error(y_test, y_test_pred))\n",
    "print('Gradient Boosting Regression Accuracy: ', gbr.score(X_test,y_test)*100)\n",
    "\n",
    "y_pred_kf_gbr = cross_val_predict(gbr, X, y, cv=15 )\n",
    "\n",
    "#Mutiple Linear Regression Accuracy with cross validation (KFold method)\n",
    "accuracy_gbr = metrics.r2_score(y, y_pred_kf_gbr)\n",
    "print('Cross-Predicted(KFold) Gradient Boosting Regression Accuracy: ', accuracy_gbr*100)\n",
    "df1 = pd.DataFrame({'Actual': y_test, 'Predicted': y_test_pred})\n",
    "df2 = df1.head(25)\n",
    "df2.plot(kind='bar',figsize=(10,8))\n",
    "plt.grid(which='major', linestyle='-', linewidth='0.5', color='green')\n",
    "plt.grid(which='minor', linestyle=':', linewidth='0.5', color='black')\n",
    "plt.show()"
   ]
  },
  {
   "cell_type": "markdown",
   "metadata": {},
   "source": [
    "### Random Forest Regression"
   ]
  },
  {
   "cell_type": "code",
   "execution_count": 49,
   "metadata": {},
   "outputs": [],
   "source": [
    "from sklearn.ensemble import RandomForestRegressor\n",
    "\n",
    "X = res[['Total Population', 'Age']].values\n",
    "y = res['Units'].values\n",
    "X_train, X_test, y_train, y_test = train_test_split(\n",
    "     X, y, test_size=0.3, random_state=0\n",
    ")\n",
    "\n",
    "rbf = RandomForestRegressor()\n",
    "rbf.fit(X_train, y_train)\n",
    "y_train_pred = rbf.predict(X_train)\n",
    "y_test_pred = rbf.predict(X_test)"
   ]
  },
  {
   "cell_type": "markdown",
   "metadata": {},
   "source": [
    "#### Measuring accuracy\n",
    "\n",
    "After making the model we can check it's accuracy and visualize it by plotting a bar chart"
   ]
  },
  {
   "cell_type": "code",
   "execution_count": 43,
   "metadata": {},
   "outputs": [
    {
     "name": "stdout",
     "output_type": "stream",
     "text": [
      "Mean Squared Error:  0.0027799435387319224\n",
      "Mean Absolute Error: 0.03\n",
      "R2 score:  0.9273379968311026\n",
      "Random Forest Regression Accuracy:  92.73379968311026\n",
      "Cross-Predicted(KFold) Random Forest Regression Accuracy:  90.92974004846775\n"
     ]
    },
    {
     "data": {
      "image/png": "[encoded data removed]",
      "text/plain": [
       "<Figure size 720x576 with 1 Axes>"
      ]
     },
     "metadata": {
      "needs_background": "light"
     },
     "output_type": "display_data"
    }
   ],
   "source": [
    "print(\"Mean Squared Error: \",mean_squared_error(y_test, y_test_pred))\n",
    "errors = abs(y_test_pred-y_test)\n",
    "print('Mean Absolute Error:', round(np.mean(errors), 2))\n",
    "print('R2 score: ',r2_score(y_test, y_test_pred))\n",
    "#print('Median Absolute Error: ',median_absolute_error(y_test, y_test_pred))\n",
    "print('Random Forest Regression Accuracy: ', rbf.score(X_test,y_test)*100)\n",
    "\n",
    "y_pred_kf_rbf = cross_val_predict(rbf, X, y, cv=15 )\n",
    "\n",
    "#Mutiple Linear Regression Accuracy with cross validation (KFold method)\n",
    "accuracy_rbf = metrics.r2_score(y, y_pred_kf_rbf)\n",
    "print('Cross-Predicted(KFold) Random Forest Regression Accuracy: ', accuracy_rbf*100)\n",
    "\n",
    "df1 = pd.DataFrame({'Actual': y_test, 'Predicted': y_test_pred})\n",
    "df2 = df1.head(25)\n",
    "df2.plot(kind='bar',figsize=(10,8))\n",
    "plt.grid(which='major', linestyle='-', linewidth='0.5', color='green')\n",
    "plt.grid(which='minor', linestyle=':', linewidth='0.5', color='black')\n",
    "plt.show()"
   ]
  },
  {
   "cell_type": "markdown",
   "metadata": {},
   "source": [
    "### Decision Tree Regression"
   ]
  },
  {
   "cell_type": "code",
   "execution_count": 44,
   "metadata": {},
   "outputs": [],
   "source": [
    "from sklearn.tree import DecisionTreeRegressor\n",
    "X = res[['Total Population', 'Age']].values\n",
    "y = res['Units'].values\n",
    "X_train, X_test, y_train, y_test = train_test_split(\n",
    "     X, y, test_size=0.3, random_state=0\n",
    ")\n",
    "dtr = DecisionTreeRegressor()\n",
    "dtr.fit(X_train, y_train)\n",
    "y_train_pred = dtr.predict(X_train)\n",
    "y_test_pred = dtr.predict(X_test)"
   ]
  },
  {
   "cell_type": "markdown",
   "metadata": {},
   "source": [
    "#### Measuring accuracy\n",
    "\n",
    "After making the model we can check it's accuracy and visualize it by plotting a bar chart"
   ]
  },
  {
   "cell_type": "code",
   "execution_count": 45,
   "metadata": {},
   "outputs": [
    {
     "name": "stdout",
     "output_type": "stream",
     "text": [
      "Mean Squared Error:  0.0027293923925480893\n",
      "Mean Absolute Error: 0.03\n",
      "R2 score:  0.9286592997615486\n",
      "Decision Tree Accuracy:  92.86592997615486\n",
      "Cross-Predicted(KFold) Decision Tree Regression Accuracy:  90.7617443067702\n"
     ]
    },
    {
     "data": {
      "image/png": "[encoded data removed]",
      "text/plain": [
       "<Figure size 720x576 with 1 Axes>"
      ]
     },
     "metadata": {
      "needs_background": "light"
     },
     "output_type": "display_data"
    }
   ],
   "source": [
    "print(\"Mean Squared Error: \",mean_squared_error(y_test, y_test_pred))\n",
    "errors = abs(y_test_pred-y_test)\n",
    "print('Mean Absolute Error:', round(np.mean(errors), 2))\n",
    "print('R2 score: ',r2_score(y_test, y_test_pred))\n",
    "#print('Median Absolute Error: ',median_absolute_error(y_test, y_test_pred))\n",
    "print('Decision Tree Accuracy: ', dtr.score(X_test,y_test)*100)\n",
    "\n",
    "y_pred_kf_dtr = cross_val_predict(dtr, X, y, cv=15 )\n",
    "\n",
    "#Mutiple Linear Regression Accuracy with cross validation (KFold method)\n",
    "accuracy_dtr = metrics.r2_score(y, y_pred_kf_dtr)\n",
    "print('Cross-Predicted(KFold) Decision Tree Regression Accuracy: ', accuracy_dtr*100)\n",
    "\n",
    "df1 = pd.DataFrame({'Actual': y_test, 'Predicted': y_test_pred})\n",
    "df2 = df1.head(25)\n",
    "df2.plot(kind='bar',figsize=(10,8))\n",
    "plt.grid(which='major', linestyle='-', linewidth='0.5', color='green')\n",
    "plt.grid(which='minor', linestyle=':', linewidth='0.5', color='black')\n",
    "plt.show()"
   ]
  }
 ],
 "metadata": {
  "kernelspec": {
   "display_name": "Python 3",
   "language": "python",
   "name": "python3"
  },
  "language_info": {
   "codemirror_mode": {
    "name": "ipython",
    "version": 3
   },
   "file_extension": ".py",
   "mimetype": "text/x-python",
   "name": "python",
   "nbconvert_exporter": "python",
   "pygments_lexer": "ipython3",
   "version": "3.7.9"
  }
 },
 "nbformat": 4,
 "nbformat_minor": 4
}
